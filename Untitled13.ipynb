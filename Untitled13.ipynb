{
 "cells": [
  {
   "cell_type": "code",
   "execution_count": null,
   "id": "33ab38b6",
   "metadata": {},
   "outputs": [],
   "source": [
    "1. In the below elements which of them are values or an expression? eg:- values can be integer or string and expressions will be mathematical operators.\n",
    "*       Expression \n",
    "'hello'     Values\n",
    "-87.8      Values \n",
    "-           Expression\n",
    "/           Expression\n",
    "+\t Expression\n",
    "6        Values\n"
   ]
  },
  {
   "cell_type": "code",
   "execution_count": null,
   "id": "dd6b05e9",
   "metadata": {},
   "outputs": [],
   "source": [
    "2. What is the difference between string and variable?\n",
    "Ans.  A variable is basically the name of the location in the primary memory of your computer. This can be chosen by you. A variable can store everything from strings to numbers. String is an immutable sequence data type. It is the sequence of Unicode characters wrapped inside single, double, or triple quotes. \n"
   ]
  },
  {
   "cell_type": "code",
   "execution_count": null,
   "id": "b89c3d67",
   "metadata": {},
   "outputs": [],
   "source": [
    "3. Describe three different data types.\n",
    "Ans. 1. Numeric- This data type represent the data which has numeric value. Numeric value can be integer, floating number or even complex numbers, for e.g., Integer, float & complex numbers.\n",
    "2. Sequence- It is the ordered collection of similar or different data types. Sequences allows to store multiple values in an organized and efficient fashion.,for e.g., String , list, tuples.\n",
    "3. Set- It is an unordered collection of data type that is iterable, mutable and has no duplicate elements. The order of elements in a set is undefined though it may consist of various elements.\n"
   ]
  },
  {
   "cell_type": "code",
   "execution_count": null,
   "id": "907070b6",
   "metadata": {},
   "outputs": [],
   "source": [
    "4. What is an expression made up of? What do all expressions do?\n",
    "Ans.  An expression is a construct made up of variables, operators, and method invocations, which are constructed according to the syntax of the language, that evaluates to a single value. An expression is a combination of values, variables, operators, and calls to functions. Expressions need to be evaluated. If you ask Python to print an expression, the interpreter evaluates the expression and displays the result.\n"
   ]
  },
  {
   "cell_type": "code",
   "execution_count": null,
   "id": "b2c4e39a",
   "metadata": {},
   "outputs": [],
   "source": [
    "5. This assignment statements, like spam = 10. What is the difference between an expression and a statement?\n",
    "Ans. Expression-  An expression is an instruction that combines values and operators and always evaluates down to a single value. For example, this is an expression: >>> 2 + 2. \n",
    "Statement- A statement is a programming instruction that does something i.e. some action takes place. For example: print(\"Hello\").It represent an action or command e.g print statements, assignment statements, Conditional statements, Looping statements.\n"
   ]
  },
  {
   "cell_type": "code",
   "execution_count": null,
   "id": "8e9502b8",
   "metadata": {},
   "outputs": [],
   "source": [
    ".\n",
    "6. After running the following code, what does the variable bacon contain?\n",
    "bacon = 22\n",
    "bacon + 1\n",
    "Ans.    23\n"
   ]
  },
  {
   "cell_type": "code",
   "execution_count": null,
   "id": "086dff75",
   "metadata": {},
   "outputs": [],
   "source": [
    "\n",
    "7. What should the values of the following two terms be?\n",
    "'spam' + 'spamspam'\n",
    "'spam' * 3\n",
    "Ans.  'spamspamspam' for both inputs\n"
   ]
  },
  {
   "cell_type": "code",
   "execution_count": null,
   "id": "0e04ee48",
   "metadata": {},
   "outputs": [],
   "source": [
    "8. Why is eggs a valid variable name while 100 is invalid?\n",
    "Ans. eggs ia a valid variable name while 100 is invalid becoz variable names cannot begin with a number. \n"
   ]
  },
  {
   "cell_type": "code",
   "execution_count": null,
   "id": "4442795d",
   "metadata": {},
   "outputs": [],
   "source": [
    "\n",
    "9. What three functions can be used to get the integer, floating-point number, or string version of a value?\n",
    "Ans. The int(), float(), and str() functions will evaluate to the integer, floating-point number, and string versions of the value passed to them.\n"
   ]
  },
  {
   "cell_type": "code",
   "execution_count": null,
   "id": "bbac676d",
   "metadata": {},
   "outputs": [],
   "source": [
    "10. Why does this expression cause an error? How can you fix it?\n",
    "'I have eaten ' + 99 + ' burritos.'\n",
    "Ans.  Error occur becoz only concatenate str (not \"int\") to str. We can fix it by converting   int into str likewise str(+99+). \n",
    "'I have eaten str(+99+) burritos.' Now its working fine.\n"
   ]
  },
  {
   "cell_type": "code",
   "execution_count": null,
   "id": "f046aa5e",
   "metadata": {},
   "outputs": [],
   "source": []
  },
  {
   "cell_type": "code",
   "execution_count": null,
   "id": "6ca9ff7f",
   "metadata": {},
   "outputs": [],
   "source": []
  },
  {
   "cell_type": "code",
   "execution_count": null,
   "id": "8acd3640",
   "metadata": {},
   "outputs": [],
   "source": []
  },
  {
   "cell_type": "code",
   "execution_count": null,
   "id": "f2778d1d",
   "metadata": {},
   "outputs": [],
   "source": []
  },
  {
   "cell_type": "code",
   "execution_count": null,
   "id": "c5cfa5a1",
   "metadata": {},
   "outputs": [],
   "source": []
  },
  {
   "cell_type": "code",
   "execution_count": null,
   "id": "0b1e6a11",
   "metadata": {},
   "outputs": [],
   "source": []
  },
  {
   "cell_type": "code",
   "execution_count": null,
   "id": "35bfc99d",
   "metadata": {},
   "outputs": [],
   "source": []
  }
 ],
 "metadata": {
  "kernelspec": {
   "display_name": "Python 3 (ipykernel)",
   "language": "python",
   "name": "python3"
  },
  "language_info": {
   "codemirror_mode": {
    "name": "ipython",
    "version": 3
   },
   "file_extension": ".py",
   "mimetype": "text/x-python",
   "name": "python",
   "nbconvert_exporter": "python",
   "pygments_lexer": "ipython3",
   "version": "3.9.7"
  }
 },
 "nbformat": 4,
 "nbformat_minor": 5
}
